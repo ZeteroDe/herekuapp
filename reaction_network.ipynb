{
 "cells": [
  {
   "cell_type": "markdown",
   "id": "fa228c69",
   "metadata": {},
   "source": [
    "# Simulation of reaction network"
   ]
  },
  {
   "cell_type": "code",
   "execution_count": null,
   "id": "d6dcf8ec",
   "metadata": {},
   "outputs": [],
   "source": [
    "import numpy as np\n",
    "\n",
    "from bokeh.io import curdoc, show, output_notebook\n",
    "from bokeh.layouts import column, row\n",
    "from bokeh.models import ColumnDataSource, Slider, TextInput\n",
    "from bokeh.plotting import figure\n",
    "\n",
    "output_notebook()\n",
    "def modify_doc(doc):\n",
    "    # Set up data\n",
    "    N=100\n",
    "    A=100\n",
    "    x = np.linspace(0, N, num=100) #num= Anzahl der zahlen, N= letzte zahl\n",
    "    y = A*np.exp(-0.1*x)\n",
    "    y2= (0.1*A*(np.exp(-0.1*x)-np.exp(-0.2*x)))/(0.2-0.1)\n",
    "    y3= A*(1+(0.1*np.exp(-0.2*x)-0.2*np.exp(-0.1*x))/(0.2-0.1))\n",
    "    source = ColumnDataSource(data=dict(x=x, y=y, y2=y2, y3=y3))\n",
    "\n",
    "\n",
    "    # Set up plot\n",
    "    plot = figure(height=400, width=400, title=\"Reaction network\",\n",
    "              tools=\"crosshair,pan,reset,save,wheel_zoom\",\n",
    "              x_range=[0, 100], y_range=[0, 101])\n",
    "\n",
    "    plot.line('x', 'y',  source=source, line_width=1, line_alpha=0.6)\n",
    "    plot.line('x', 'y2', source=source, line_width=1, line_alpha=0.6)\n",
    "    plot.line('x', 'y3', source=source, line_width=1, line_alpha=0.6)\n",
    "    \n",
    "    # Set up widgets\n",
    "\n",
    "    fir = Slider(title=\"k1\", value=0.1, start=0.001, end=1, step=0.01)\n",
    "    sec = Slider(title=\"k2\", value=0.2, start=0.001, end=1, step=0.01)\n",
    "\n",
    "    # Set up callbacks\n",
    "\n",
    "    def update_data(attrname, old, new):\n",
    "\n",
    "        # Get the current slider values\n",
    "        k = fir.value\n",
    "        kk = sec.value\n",
    "\n",
    "        # Generate the new curve\n",
    "        x = np.linspace(0, N, num=100) #num= Anzahl der zahlen, N= letzte zahl\n",
    "        y = A*np.exp(-k*x)\n",
    "        y2= (k*A*(np.exp(-k*x)-np.exp(-kk*x)))/(kk-k)\n",
    "        y3= A*(1+(k*np.exp(-kk*x)-kk*np.exp(-k*x))/(kk-k))\n",
    "\n",
    "        source.data = dict(x=x, y=y, y2=y2, y3=y3)\n",
    "\n",
    "    for w in [fir, sec]:\n",
    "        w.on_change('value', update_data)\n",
    "\n",
    "\n",
    "# Set up layouts and add to document\n",
    "    inputs = column(fir, sec)\n",
    "\n",
    "    layout=row(inputs,plot)\n",
    "\n",
    "\n",
    "    doc.add_root(layout)\n",
    "\n",
    "show(modify_doc)\n"
   ]
  }
 ],
 "metadata": {
  "kernelspec": {
   "display_name": "Python 3",
   "language": "python",
   "name": "python3"
  },
  "language_info": {
   "codemirror_mode": {
    "name": "ipython",
    "version": 3
   },
   "file_extension": ".py",
   "mimetype": "text/x-python",
   "name": "python",
   "nbconvert_exporter": "python",
   "pygments_lexer": "ipython3",
   "version": "3.9.5"
  }
 },
 "nbformat": 4,
 "nbformat_minor": 5
}
